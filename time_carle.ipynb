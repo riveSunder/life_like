{
 "cells": [
  {
   "cell_type": "code",
   "execution_count": null,
   "id": "622bddc6",
   "metadata": {},
   "outputs": [],
   "source": [
    "import time\n",
    "from carle.env import CARLE\n",
    "\n",
    "import torch"
   ]
  },
  {
   "cell_type": "code",
   "execution_count": null,
   "id": "53bf3deb",
   "metadata": {},
   "outputs": [],
   "source": [
    "obs_dim = 64\n",
    "act_dim = 64\n",
    "\n",
    "for obs_dim in [64, 128, 256]: #, 1024]:\n",
    "    replicates = 1\n",
    "\n",
    "    env = CARLE(height=obs_dim, width=obs_dim, action_height=act_dim, action_width=act_dim)\n",
    "\n",
    "    env.rules_from_string(\"B368/S245\")\n",
    "\n",
    "    action = torch.zeros(act_dim, act_dim)\n",
    "\n",
    "    t0 = time.time()\n",
    "\n",
    "    for steps in [1, 100, 1000, 10000]: #, 100000]:\n",
    "\n",
    "        t0 = time.time()\n",
    "        obs = env.reset()\n",
    "\n",
    "        for hh in range(replicates):\n",
    "\n",
    "            t1 = time.time()\n",
    "            for ii in range(steps):\n",
    "                _ = env.step(action)\n",
    "\n",
    "            t2 = time.time()\n",
    "\n",
    "            #print(f\"time elapsed for {steps} steps: {t2-t1:.3f} seconds, {steps / (t2-t1):.2f} steps/sec.\")\n",
    "\n",
    "        print(f\"   universe dimension = {obs_dim}\")\n",
    "        print(f\"time elapsed for {replicates} runs of {steps} steps: {t2-t0:.3f} seconds,\"\\\n",
    "              f\"{(replicates * steps) / (t2-t0):.2f} avg. steps/sec.\")\n"
   ]
  },
  {
   "cell_type": "code",
   "execution_count": null,
   "id": "4c005fc8",
   "metadata": {},
   "outputs": [],
   "source": []
  }
 ],
 "metadata": {
  "kernelspec": {
   "display_name": "Python 3",
   "language": "python",
   "name": "python3"
  },
  "language_info": {
   "codemirror_mode": {
    "name": "ipython",
    "version": 3
   },
   "file_extension": ".py",
   "mimetype": "text/x-python",
   "name": "python",
   "nbconvert_exporter": "python",
   "pygments_lexer": "ipython3",
   "version": "3.6.9"
  }
 },
 "nbformat": 4,
 "nbformat_minor": 5
}
