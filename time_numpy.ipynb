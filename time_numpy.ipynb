{
 "cells": [
  {
   "cell_type": "code",
   "execution_count": null,
   "id": "cf0f4f03",
   "metadata": {},
   "outputs": [],
   "source": [
    "import time \n",
    "\n",
    "import numpy as np\n",
    "import matplotlib.pyplot as plt\n",
    "my_cmap = plt.get_cmap(\"viridis\")\n",
    "\n",
    "from src.life_like import ca_steps, ca_update, ft_convolve, pad_to_2d"
   ]
  },
  {
   "cell_type": "code",
   "execution_count": null,
   "id": "8a43e946",
   "metadata": {},
   "outputs": [],
   "source": [
    "def time_ca_steps(universe, num_steps):\n",
    "    t0 = time.time()\n",
    "    universe = ca_steps(universe, num_steps)\n",
    "    t1 = time.time()\n",
    "    \n",
    "    return universe, t1-t0"
   ]
  },
  {
   "cell_type": "code",
   "execution_count": null,
   "id": "94fada32",
   "metadata": {},
   "outputs": [],
   "source": [
    "def timing_script():\n",
    "    seconds = np.zeros((4,))\n",
    "\n",
    "    cc = 0\n",
    "    for obs_dim in [1024, 256, 128, 64]:\n",
    "        uni = {\"born\": [3],\\\n",
    "               \"live\": [2,3],\\\n",
    "               \"grid\": np.zeros((obs_dim, obs_dim))\\\n",
    "              }\n",
    "               \n",
    "\n",
    "        # build a glider\n",
    "        uni[\"grid\"][34, 32] = 1\n",
    "        uni[\"grid\"][35, 32:34] = 1\n",
    "        uni[\"grid\"][36, 31] = 1\n",
    "        uni[\"grid\"][36, 33] = 1\n",
    "\n",
    "        dd = 0\n",
    "        for steps in [1, 10, 100, 1000]: \n",
    "\n",
    "            t0 = time_ca_steps(uni, steps)[1]\n",
    "            \n",
    "            print(f\"{obs_dim} obs_dim\")\n",
    "            print(f\"{steps} steps in {t0} seconds, {steps/t0} steps/second\")\n",
    "\n",
    "\n",
    "            dd += 1\n",
    "\n",
    "            seconds[ cc ] = t0\n",
    "\n",
    "        cc += 1\n",
    "\n",
    "\n",
    "    return seconds, uni[\"grid\"]\n",
    "\n",
    "seconds, grid = timing_script()"
   ]
  },
  {
   "cell_type": "code",
   "execution_count": null,
   "id": "b7a7bd18",
   "metadata": {},
   "outputs": [],
   "source": [
    "# plot it up\n",
    "\n",
    "x = [1, 2, 3, 4]\n",
    "y = 1000 / seconds\n",
    "\n",
    "\n",
    "plt.figure(figsize=(8,4), facecolor=\"white\")\n",
    "\n",
    "plt.bar(x, y, width=0.75, \\\n",
    "        color=[my_cmap(65), my_cmap(150), my_cmap(200), my_cmap(250)], \\\n",
    "        edgecolor=my_cmap(10), linewidth=3,\\\n",
    "       tick_label =[\"obs_dim = 1024\", \"obs_dim = 256\", \"obs_dim = 128\", \"obs_dim = 64\"])\n",
    "\n",
    "\n",
    "plt.title(\"Speed of Life in Numpy\", fontsize=32)\n",
    "\n",
    "plt.ylabel(\"steps per second\", fontsize=22)\n",
    "\n",
    "\n",
    "plt.figure(figsize=(8,8))\n",
    "plt.imshow(grid, cmap=my_cmap)\n",
    "plt.title(\"Life glider last step\", fontsize=32)\n",
    "\n",
    "plt.show()"
   ]
  },
  {
   "cell_type": "code",
   "execution_count": null,
   "id": "9773a3a5",
   "metadata": {},
   "outputs": [],
   "source": []
  }
 ],
 "metadata": {
  "kernelspec": {
   "display_name": "Python 3",
   "language": "python",
   "name": "python3"
  },
  "language_info": {
   "codemirror_mode": {
    "name": "ipython",
    "version": 3
   },
   "file_extension": ".py",
   "mimetype": "text/x-python",
   "name": "python",
   "nbconvert_exporter": "python",
   "pygments_lexer": "ipython3",
   "version": "3.6.9"
  }
 },
 "nbformat": 4,
 "nbformat_minor": 5
}
