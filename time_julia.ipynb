{
 "cells": [
  {
   "cell_type": "code",
   "execution_count": null,
   "id": "283b4e72",
   "metadata": {},
   "outputs": [],
   "source": [
    "include(\"life_like.jl\")"
   ]
  },
  {
   "cell_type": "code",
   "execution_count": null,
   "id": "d2ca63b9",
   "metadata": {},
   "outputs": [],
   "source": [
    "function time_ca_steps(universe::Universe, steps::Int64)\n",
    "    @timed ca_steps(universe, steps)\n",
    "    \n",
    "end   "
   ]
  },
  {
   "cell_type": "code",
   "execution_count": null,
   "id": "3129f194",
   "metadata": {},
   "outputs": [],
   "source": [
    "obs_dim = 64\n",
    "\n",
    "for obs_dim = [64, 128, 256] #, 1024]\n",
    "    uni = Universe( [3,6,8], [2,4,5], zeros(obs_dim, obs_dim) )\n",
    "\n",
    "    for steps = [1, 10, 100, 1000, 10000] #, 100000]\n",
    "\n",
    "\n",
    "        t0 = time_ca_steps(uni, steps)[2]\n",
    "        println(obs_dim)\n",
    "        println(steps, \" steps in \", t0, \" seconds, \", steps/t0, \" steps/second \")\n",
    "\n",
    "    end\n",
    "end"
   ]
  },
  {
   "cell_type": "code",
   "execution_count": null,
   "id": "ec0ed909",
   "metadata": {
    "scrolled": true
   },
   "outputs": [],
   "source": [
    "#guidict = imshow_gui((300,300))\n",
    "#c = guidict[\"canvas\"]\n",
    "#Gtk.showall(guidict[\"window\"])\n",
    "\n",
    "uni = Universe( [3], [2,3], zeros(32,32) )\n",
    "\n",
    "# build a glider\n",
    "uni.grid[4, 2] = 1\n",
    "uni.grid[5, 2:3] .= 1\n",
    "uni.grid[6, 1] = 1\n",
    "uni.grid[6, 3] = 1\n",
    "#uni.grid[1,:] .= 1\n",
    "\n",
    "temp = uni.grid\n",
    "\n",
    "PyPlot.figure()\n",
    "PyPlot.imshow(uni.grid, cmap=\"magma\")\n",
    "\n",
    "for ii = 1:32\n",
    "    ca_steps(uni, 1)\n",
    "    #temp = uni.grid *0.9 + 0.1 * temp\n",
    "    PyPlot.figure()\n",
    "    PyPlot.imshow(uni.grid, cmap=\"magma\")\n",
    "end\n"
   ]
  },
  {
   "cell_type": "code",
   "execution_count": null,
   "id": "50d6857a",
   "metadata": {},
   "outputs": [],
   "source": []
  }
 ],
 "metadata": {
  "kernelspec": {
   "display_name": "Julia 1.5.3",
   "language": "julia",
   "name": "julia-1.5"
  },
  "language_info": {
   "file_extension": ".jl",
   "mimetype": "application/julia",
   "name": "julia",
   "version": "1.5.3"
  }
 },
 "nbformat": 4,
 "nbformat_minor": 5
}
